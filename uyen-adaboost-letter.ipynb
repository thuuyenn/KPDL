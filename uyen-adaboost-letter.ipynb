{
 "cells": [
  {
   "cell_type": "code",
   "execution_count": 1,
   "id": "6c72b2d9",
   "metadata": {
    "_cell_guid": "b1076dfc-b9ad-4769-8c92-a6c4dae69d19",
    "_uuid": "8f2839f25d086af736a60e9eeb907d3b93b6e0e5",
    "execution": {
     "iopub.execute_input": "2022-04-08T07:54:28.996898Z",
     "iopub.status.busy": "2022-04-08T07:54:28.995720Z",
     "iopub.status.idle": "2022-04-08T07:54:29.015096Z",
     "shell.execute_reply": "2022-04-08T07:54:29.015669Z",
     "shell.execute_reply.started": "2022-04-08T07:53:08.103232Z"
    },
    "papermill": {
     "duration": 0.040069,
     "end_time": "2022-04-08T07:54:29.015978",
     "exception": false,
     "start_time": "2022-04-08T07:54:28.975909",
     "status": "completed"
    },
    "tags": []
   },
   "outputs": [
    {
     "name": "stdout",
     "output_type": "stream",
     "text": [
      "/kaggle/input/letter-cg-data/letters_CG.txt\n"
     ]
    }
   ],
   "source": [
    "# This Python 3 environment comes with many helpful analytics libraries installed\n",
    "# It is defined by the kaggle/python Docker image: https://github.com/kaggle/docker-python\n",
    "# For example, here's several helpful packages to load\n",
    "\n",
    "import numpy as np # linear algebra\n",
    "import pandas as pd # data processing, CSV file I/O (e.g. pd.read_csv)\n",
    "\n",
    "# Input data files are available in the read-only \"../input/\" directory\n",
    "# For example, running this (by clicking run or pressing Shift+Enter) will list all files under the input directory\n",
    "\n",
    "import os\n",
    "for dirname, _, filenames in os.walk('/kaggle/input'):\n",
    "    for filename in filenames:\n",
    "        print(os.path.join(dirname, filename))\n",
    "\n",
    "# You can write up to 20GB to the current directory (/kaggle/working/) that gets preserved as output when you create a version using \"Save & Run All\" \n",
    "# You can also write temporary files to /kaggle/temp/, but they won't be saved outside of the current session"
   ]
  },
  {
   "cell_type": "code",
   "execution_count": 2,
   "id": "eddbc07f",
   "metadata": {
    "execution": {
     "iopub.execute_input": "2022-04-08T07:54:29.048170Z",
     "iopub.status.busy": "2022-04-08T07:54:29.047543Z",
     "iopub.status.idle": "2022-04-08T07:54:29.050914Z",
     "shell.execute_reply": "2022-04-08T07:54:29.051476Z",
     "shell.execute_reply.started": "2022-04-08T07:53:08.120019Z"
    },
    "papermill": {
     "duration": 0.020953,
     "end_time": "2022-04-08T07:54:29.051658",
     "exception": false,
     "start_time": "2022-04-08T07:54:29.030705",
     "status": "completed"
    },
    "tags": []
   },
   "outputs": [],
   "source": [
    "import pandas as pd\n",
    "import numpy as np\n"
   ]
  },
  {
   "cell_type": "code",
   "execution_count": 3,
   "id": "21bade84",
   "metadata": {
    "execution": {
     "iopub.execute_input": "2022-04-08T07:54:29.083659Z",
     "iopub.status.busy": "2022-04-08T07:54:29.082978Z",
     "iopub.status.idle": "2022-04-08T07:54:29.169978Z",
     "shell.execute_reply": "2022-04-08T07:54:29.170461Z",
     "shell.execute_reply.started": "2022-04-08T07:53:08.138130Z"
    },
    "papermill": {
     "duration": 0.104771,
     "end_time": "2022-04-08T07:54:29.170645",
     "exception": false,
     "start_time": "2022-04-08T07:54:29.065874",
     "status": "completed"
    },
    "tags": []
   },
   "outputs": [
    {
     "data": {
      "text/html": [
       "<div>\n",
       "<style scoped>\n",
       "    .dataframe tbody tr th:only-of-type {\n",
       "        vertical-align: middle;\n",
       "    }\n",
       "\n",
       "    .dataframe tbody tr th {\n",
       "        vertical-align: top;\n",
       "    }\n",
       "\n",
       "    .dataframe thead th {\n",
       "        text-align: right;\n",
       "    }\n",
       "</style>\n",
       "<table border=\"1\" class=\"dataframe\">\n",
       "  <thead>\n",
       "    <tr style=\"text-align: right;\">\n",
       "      <th></th>\n",
       "      <th>x-box</th>\n",
       "      <th>y-box</th>\n",
       "      <th>width</th>\n",
       "      <th>high</th>\n",
       "      <th>onpix</th>\n",
       "      <th>x-bar</th>\n",
       "      <th>y-bar</th>\n",
       "      <th>x2bar</th>\n",
       "      <th>y2bar</th>\n",
       "      <th>xybar</th>\n",
       "      <th>x2ybr</th>\n",
       "      <th>xy2br</th>\n",
       "      <th>x-ege</th>\n",
       "      <th>xegvy</th>\n",
       "      <th>y-ege</th>\n",
       "      <th>yegvx</th>\n",
       "    </tr>\n",
       "  </thead>\n",
       "  <tbody>\n",
       "    <tr>\n",
       "      <th>count</th>\n",
       "      <td>1509.000000</td>\n",
       "      <td>1509.000000</td>\n",
       "      <td>1509.000000</td>\n",
       "      <td>1509.000000</td>\n",
       "      <td>1509.000000</td>\n",
       "      <td>1509.000000</td>\n",
       "      <td>1509.000000</td>\n",
       "      <td>1509.000000</td>\n",
       "      <td>1509.000000</td>\n",
       "      <td>1509.000000</td>\n",
       "      <td>1509.000000</td>\n",
       "      <td>1509.000000</td>\n",
       "      <td>1509.000000</td>\n",
       "      <td>1509.000000</td>\n",
       "      <td>1509.000000</td>\n",
       "      <td>1509.000000</td>\n",
       "    </tr>\n",
       "    <tr>\n",
       "      <th>mean</th>\n",
       "      <td>4.059642</td>\n",
       "      <td>7.025182</td>\n",
       "      <td>4.848244</td>\n",
       "      <td>5.288933</td>\n",
       "      <td>3.180915</td>\n",
       "      <td>6.169649</td>\n",
       "      <td>7.094102</td>\n",
       "      <td>5.947647</td>\n",
       "      <td>6.235255</td>\n",
       "      <td>8.084824</td>\n",
       "      <td>6.809808</td>\n",
       "      <td>10.737575</td>\n",
       "      <td>2.422797</td>\n",
       "      <td>8.616965</td>\n",
       "      <td>4.626243</td>\n",
       "      <td>8.893970</td>\n",
       "    </tr>\n",
       "    <tr>\n",
       "      <th>std</th>\n",
       "      <td>1.744379</td>\n",
       "      <td>3.327707</td>\n",
       "      <td>1.612338</td>\n",
       "      <td>2.156974</td>\n",
       "      <td>1.934883</td>\n",
       "      <td>1.296437</td>\n",
       "      <td>1.138498</td>\n",
       "      <td>1.268069</td>\n",
       "      <td>2.071898</td>\n",
       "      <td>2.059967</td>\n",
       "      <td>1.443088</td>\n",
       "      <td>2.022762</td>\n",
       "      <td>1.768471</td>\n",
       "      <td>1.081741</td>\n",
       "      <td>1.578873</td>\n",
       "      <td>1.397002</td>\n",
       "    </tr>\n",
       "    <tr>\n",
       "      <th>min</th>\n",
       "      <td>0.000000</td>\n",
       "      <td>0.000000</td>\n",
       "      <td>1.000000</td>\n",
       "      <td>0.000000</td>\n",
       "      <td>0.000000</td>\n",
       "      <td>2.000000</td>\n",
       "      <td>3.000000</td>\n",
       "      <td>2.000000</td>\n",
       "      <td>1.000000</td>\n",
       "      <td>4.000000</td>\n",
       "      <td>2.000000</td>\n",
       "      <td>4.000000</td>\n",
       "      <td>0.000000</td>\n",
       "      <td>5.000000</td>\n",
       "      <td>2.000000</td>\n",
       "      <td>4.000000</td>\n",
       "    </tr>\n",
       "    <tr>\n",
       "      <th>25%</th>\n",
       "      <td>3.000000</td>\n",
       "      <td>5.000000</td>\n",
       "      <td>4.000000</td>\n",
       "      <td>4.000000</td>\n",
       "      <td>2.000000</td>\n",
       "      <td>5.000000</td>\n",
       "      <td>6.000000</td>\n",
       "      <td>5.000000</td>\n",
       "      <td>5.000000</td>\n",
       "      <td>6.000000</td>\n",
       "      <td>6.000000</td>\n",
       "      <td>9.000000</td>\n",
       "      <td>1.000000</td>\n",
       "      <td>8.000000</td>\n",
       "      <td>4.000000</td>\n",
       "      <td>8.000000</td>\n",
       "    </tr>\n",
       "    <tr>\n",
       "      <th>50%</th>\n",
       "      <td>4.000000</td>\n",
       "      <td>7.000000</td>\n",
       "      <td>5.000000</td>\n",
       "      <td>6.000000</td>\n",
       "      <td>3.000000</td>\n",
       "      <td>6.000000</td>\n",
       "      <td>7.000000</td>\n",
       "      <td>6.000000</td>\n",
       "      <td>6.000000</td>\n",
       "      <td>8.000000</td>\n",
       "      <td>7.000000</td>\n",
       "      <td>11.000000</td>\n",
       "      <td>2.000000</td>\n",
       "      <td>9.000000</td>\n",
       "      <td>4.000000</td>\n",
       "      <td>9.000000</td>\n",
       "    </tr>\n",
       "    <tr>\n",
       "      <th>75%</th>\n",
       "      <td>5.000000</td>\n",
       "      <td>9.000000</td>\n",
       "      <td>6.000000</td>\n",
       "      <td>7.000000</td>\n",
       "      <td>4.000000</td>\n",
       "      <td>7.000000</td>\n",
       "      <td>8.000000</td>\n",
       "      <td>7.000000</td>\n",
       "      <td>8.000000</td>\n",
       "      <td>9.000000</td>\n",
       "      <td>8.000000</td>\n",
       "      <td>12.000000</td>\n",
       "      <td>3.000000</td>\n",
       "      <td>9.000000</td>\n",
       "      <td>5.000000</td>\n",
       "      <td>10.000000</td>\n",
       "    </tr>\n",
       "    <tr>\n",
       "      <th>max</th>\n",
       "      <td>10.000000</td>\n",
       "      <td>15.000000</td>\n",
       "      <td>10.000000</td>\n",
       "      <td>9.000000</td>\n",
       "      <td>12.000000</td>\n",
       "      <td>11.000000</td>\n",
       "      <td>11.000000</td>\n",
       "      <td>10.000000</td>\n",
       "      <td>12.000000</td>\n",
       "      <td>13.000000</td>\n",
       "      <td>11.000000</td>\n",
       "      <td>15.000000</td>\n",
       "      <td>11.000000</td>\n",
       "      <td>13.000000</td>\n",
       "      <td>10.000000</td>\n",
       "      <td>14.000000</td>\n",
       "    </tr>\n",
       "  </tbody>\n",
       "</table>\n",
       "</div>"
      ],
      "text/plain": [
       "             x-box        y-box        width         high        onpix  \\\n",
       "count  1509.000000  1509.000000  1509.000000  1509.000000  1509.000000   \n",
       "mean      4.059642     7.025182     4.848244     5.288933     3.180915   \n",
       "std       1.744379     3.327707     1.612338     2.156974     1.934883   \n",
       "min       0.000000     0.000000     1.000000     0.000000     0.000000   \n",
       "25%       3.000000     5.000000     4.000000     4.000000     2.000000   \n",
       "50%       4.000000     7.000000     5.000000     6.000000     3.000000   \n",
       "75%       5.000000     9.000000     6.000000     7.000000     4.000000   \n",
       "max      10.000000    15.000000    10.000000     9.000000    12.000000   \n",
       "\n",
       "             x-bar        y-bar        x2bar        y2bar        xybar  \\\n",
       "count  1509.000000  1509.000000  1509.000000  1509.000000  1509.000000   \n",
       "mean      6.169649     7.094102     5.947647     6.235255     8.084824   \n",
       "std       1.296437     1.138498     1.268069     2.071898     2.059967   \n",
       "min       2.000000     3.000000     2.000000     1.000000     4.000000   \n",
       "25%       5.000000     6.000000     5.000000     5.000000     6.000000   \n",
       "50%       6.000000     7.000000     6.000000     6.000000     8.000000   \n",
       "75%       7.000000     8.000000     7.000000     8.000000     9.000000   \n",
       "max      11.000000    11.000000    10.000000    12.000000    13.000000   \n",
       "\n",
       "             x2ybr        xy2br        x-ege        xegvy        y-ege  \\\n",
       "count  1509.000000  1509.000000  1509.000000  1509.000000  1509.000000   \n",
       "mean      6.809808    10.737575     2.422797     8.616965     4.626243   \n",
       "std       1.443088     2.022762     1.768471     1.081741     1.578873   \n",
       "min       2.000000     4.000000     0.000000     5.000000     2.000000   \n",
       "25%       6.000000     9.000000     1.000000     8.000000     4.000000   \n",
       "50%       7.000000    11.000000     2.000000     9.000000     4.000000   \n",
       "75%       8.000000    12.000000     3.000000     9.000000     5.000000   \n",
       "max      11.000000    15.000000    11.000000    13.000000    10.000000   \n",
       "\n",
       "             yegvx  \n",
       "count  1509.000000  \n",
       "mean      8.893970  \n",
       "std       1.397002  \n",
       "min       4.000000  \n",
       "25%       8.000000  \n",
       "50%       9.000000  \n",
       "75%      10.000000  \n",
       "max      14.000000  "
      ]
     },
     "execution_count": 3,
     "metadata": {},
     "output_type": "execute_result"
    }
   ],
   "source": [
    "data = pd.read_csv('../input/letter-cg-data/letters_CG.txt',sep=' ')\n",
    "onlydata=data.loc[:,'x-box':'yegvx']\n",
    "onlydata.describe(include='all')"
   ]
  },
  {
   "cell_type": "code",
   "execution_count": 4,
   "id": "d2733220",
   "metadata": {
    "execution": {
     "iopub.execute_input": "2022-04-08T07:54:29.208769Z",
     "iopub.status.busy": "2022-04-08T07:54:29.208022Z",
     "iopub.status.idle": "2022-04-08T07:54:30.405982Z",
     "shell.execute_reply": "2022-04-08T07:54:30.405358Z",
     "shell.execute_reply.started": "2022-04-08T07:53:08.215016Z"
    },
    "papermill": {
     "duration": 1.220724,
     "end_time": "2022-04-08T07:54:30.406174",
     "exception": false,
     "start_time": "2022-04-08T07:54:29.185450",
     "status": "completed"
    },
    "tags": []
   },
   "outputs": [],
   "source": [
    "from sklearn.model_selection import train_test_split\n",
    "from sklearn import preprocessing\n",
    "X=onlydata.values\n",
    "yCG=data.values[:,0]\n",
    "y=np.zeros((yCG.size))\n",
    "y[yCG=='G']=1\n",
    "# Split data into training and testing sets\n",
    "X_train, X_test, y_train, y_test = train_test_split(X, y, test_size=0.25, random_state = 0)\n",
    "# Standardize the x_train and x_test datasets\n",
    "std_scaler = preprocessing.StandardScaler().fit(X_train)\n",
    "X_train_scaled = std_scaler.transform(X_train)\n",
    "X_test_scaled = std_scaler.transform(X_test)"
   ]
  },
  {
   "cell_type": "code",
   "execution_count": 5,
   "id": "a75911ee",
   "metadata": {
    "execution": {
     "iopub.execute_input": "2022-04-08T07:54:30.449544Z",
     "iopub.status.busy": "2022-04-08T07:54:30.448658Z",
     "iopub.status.idle": "2022-04-08T07:54:31.248980Z",
     "shell.execute_reply": "2022-04-08T07:54:31.249736Z",
     "shell.execute_reply.started": "2022-04-08T07:53:08.228777Z"
    },
    "papermill": {
     "duration": 0.828037,
     "end_time": "2022-04-08T07:54:31.250017",
     "exception": false,
     "start_time": "2022-04-08T07:54:30.421980",
     "status": "completed"
    },
    "tags": []
   },
   "outputs": [
    {
     "data": {
      "image/png": "[encoded data removed]",
      "text/plain": [
       "<Figure size 432x288 with 2 Axes>"
      ]
     },
     "metadata": {
      "needs_background": "light"
     },
     "output_type": "display_data"
    }
   ],
   "source": [
    "from sklearn.decomposition import PCA\n",
    "import matplotlib.pyplot as plt\n",
    "pca = PCA(n_components=2)\n",
    "fig, (plttrain, plttest) = plt.subplots(1, 2)\n",
    "datavl1=pca.fit_transform(X_train_scaled)\n",
    "g11=datavl1[(y_train==1)]\n",
    "g12=datavl1[(y_train==0)]\n",
    "plttrain.set_title('Train values :'+ str(X_train_scaled.shape))\n",
    "plttrain.scatter(g11[:,0],g11[:,1],marker='o', c='pink')\n",
    "plttrain.scatter(g12[:,0],g12[:,1],marker='*')\n",
    "plttrain.legend(['lable T','lable U'])\n",
    "datavl2=pca.fit_transform(X_test_scaled)\n",
    "g21=datavl2[(y_test==1)]\n",
    "g22=datavl2[(y_test==0)]\n",
    "plttest.set_title('Test values :'+str(X_test_scaled.shape))\n",
    "plttest.scatter(g21[:,0],g21[:,1],marker='o', c='plum')\n",
    "plttest.scatter(g22[:,0],g22[:,1],marker='*')\n",
    "plttest.legend(['lable T','lable U'])\n",
    "plt.savefig('lettersCG_Xtraintext.png')\n"
   ]
  },
  {
   "cell_type": "code",
   "execution_count": 6,
   "id": "66c00a6a",
   "metadata": {
    "execution": {
     "iopub.execute_input": "2022-04-08T07:54:31.293517Z",
     "iopub.status.busy": "2022-04-08T07:54:31.292858Z",
     "iopub.status.idle": "2022-04-08T07:54:31.633310Z",
     "shell.execute_reply": "2022-04-08T07:54:31.632789Z",
     "shell.execute_reply.started": "2022-04-08T07:53:08.972476Z"
    },
    "papermill": {
     "duration": 0.365497,
     "end_time": "2022-04-08T07:54:31.633453",
     "exception": false,
     "start_time": "2022-04-08T07:54:31.267956",
     "status": "completed"
    },
    "tags": []
   },
   "outputs": [
    {
     "data": {
      "image/png": "[encoded data removed]",
      "text/plain": [
       "<Figure size 432x288 with 1 Axes>"
      ]
     },
     "metadata": {
      "needs_background": "light"
     },
     "output_type": "display_data"
    }
   ],
   "source": [
    "from sklearn.decomposition import PCA\n",
    "import matplotlib.pyplot as plt\n",
    "pca= PCA(n_components=2)\n",
    "# fig, (plttrain, plttest) = plt.subplots(1, 2)\n",
    "datavlx=pca.fit_transform(X)\n",
    "gx1=datavlx[(y==1)]\n",
    "gx2=datavlx[(y==0)]\n",
    "plt.title('Train values :'+ str(X.shape))\n",
    "plt.scatter(gx1[:,0],gx1[:,1],marker='+', c='salmon')\n",
    "plt.scatter(gx2[:,0],gx2[:,1],marker='*')\n",
    "plt.legend(['lable T','lable U'])\n",
    "plt.savefig('lettersCG_X.png')"
   ]
  },
  {
   "cell_type": "code",
   "execution_count": 7,
   "id": "f396ed8b",
   "metadata": {
    "execution": {
     "iopub.execute_input": "2022-04-08T07:54:31.685767Z",
     "iopub.status.busy": "2022-04-08T07:54:31.680128Z",
     "iopub.status.idle": "2022-04-08T07:54:31.689574Z",
     "shell.execute_reply": "2022-04-08T07:54:31.688897Z",
     "shell.execute_reply.started": "2022-04-08T07:53:09.442863Z"
    },
    "papermill": {
     "duration": 0.037419,
     "end_time": "2022-04-08T07:54:31.689725",
     "exception": false,
     "start_time": "2022-04-08T07:54:31.652306",
     "status": "completed"
    },
    "tags": []
   },
   "outputs": [],
   "source": [
    "class RatingModel:\n",
    "    def __init__(self, y_, y_Pr):\n",
    "      self.y_=y_\n",
    "      self.y_Pr=y_Pr\n",
    "      self.TN=np.size(y_Pr[(y_Pr==-1)&(y_==y_Pr)])\n",
    "      self.FN=np.size(y_Pr[(y_Pr==-1)&(y_!=y_Pr)])\n",
    "      self.TP=np.size(y_Pr[(y_Pr==1)&(y_==y_Pr)])\n",
    "      self.FP=np.size(y_Pr[(y_Pr==1)&(y_!=y_Pr)])\n",
    "      self.y_[self.y_==0]=-1\n",
    "      self.y_Pr[self.y_Pr==0]=-1\n",
    "      # assert self.y_.set={1, -1}\n",
    "      # assert self.y_Pr.set={1, -1}\n",
    "    def __rep__():\n",
    "        return \"\"\n",
    "    def accur_Error(self, y_, y_Pr):\n",
    "        rs=(self.TP+self.TN)/(y_.size)\n",
    "        return [rs,(1-rs)]\n",
    "    def sensitivity(self):\n",
    "        P=np.size(self.y_[self.y_==1])\n",
    "        return (self.TP)/(P)\n",
    "    def specificity(self):\n",
    "        N=np.size(self.y_[self.y_==-1])\n",
    "        return (self.TN)/(N)\n",
    "    def precision(self):\n",
    "        rs=self.TP+self.FP\n",
    "        return (self.TP)/(rs)\n",
    "    def recall(self):\n",
    "        rs=self.TP+self.FN\n",
    "        return (self.TP)/(rs)\n",
    "    def rating(self):\n",
    "        return [self.accur_Error(self.y_, self.y_Pr), self.sensitivity(), self.specificity(), self.precision(), self.recall()]"
   ]
  },
  {
   "cell_type": "code",
   "execution_count": 8,
   "id": "8becbc6a",
   "metadata": {
    "execution": {
     "iopub.execute_input": "2022-04-08T07:54:31.745414Z",
     "iopub.status.busy": "2022-04-08T07:54:31.744680Z",
     "iopub.status.idle": "2022-04-08T07:54:31.747935Z",
     "shell.execute_reply": "2022-04-08T07:54:31.747306Z",
     "shell.execute_reply.started": "2022-04-08T07:53:09.458669Z"
    },
    "papermill": {
     "duration": 0.039159,
     "end_time": "2022-04-08T07:54:31.748079",
     "exception": false,
     "start_time": "2022-04-08T07:54:31.708920",
     "status": "completed"
    },
    "tags": []
   },
   "outputs": [],
   "source": [
    "class DecisionStump:\n",
    "    def __init__(self, T=100):\n",
    "        self.T = T\n",
    "        pass\n",
    "\n",
    "    def fit(self, X: np.ndarray, y: np.ndarray, sample_weight: np.ndarray):\n",
    "        T = self.T\n",
    "        W=sample_weight\n",
    "        nrow, ncol = X.shape\n",
    "        assert nrow == y.size\n",
    "\n",
    "        bestn = 0\n",
    "        bestd = 1\n",
    "        bestp = 0\n",
    "        minerr = W.sum()\n",
    "        for i in range(ncol):\n",
    "            err, d, p = self._optimize(X[:, i], y, W, T)\n",
    "            if err < minerr:\n",
    "                minerr = err\n",
    "                bestn = i\n",
    "                bestd = d\n",
    "                bestp = p\n",
    "        \n",
    "        self.features = ncol\n",
    "        self.bestn = bestn\n",
    "        self.bestd = bestd\n",
    "        self.bestp = bestp\n",
    "\n",
    "        return self\n",
    "\n",
    "    def _optimize(self, X, y, W, T):\n",
    "        X = X.flatten()\n",
    "        min_x, max_x = X.min(), X.max()\n",
    "        len_x = max_x - min_x\n",
    "        \n",
    "        bestd = 1\n",
    "        bestp = min_x\n",
    "        minerr = W.sum()\n",
    "\n",
    "        if len_x > 0.0:\n",
    "            for p in np.arange(min_x, max_x, len_x/T):\n",
    "                for d in [-1, 1]:\n",
    "                    gy = np.ones((y.size))\n",
    "                    gy[X*d < p*d] = -1\n",
    "                    err = np.sum((gy != y)*W)\n",
    "                    if err < minerr:\n",
    "                        minerr = err\n",
    "                        bestd = d\n",
    "                        bestp = p\n",
    "\n",
    "        return minerr, bestd, bestp\n",
    "\n",
    "    def predict(self, test_set : np.ndarray):\n",
    "        nrow, ncol = test_set.shape\n",
    "\n",
    "        assert ncol == self.features\n",
    "\n",
    "        icol = test_set[:, self.bestn]\n",
    "        h = np.ones((nrow))\n",
    "        h[icol*self.bestd < self.bestp*self.bestd] = -1\n",
    "        return h"
   ]
  },
  {
   "cell_type": "code",
   "execution_count": 9,
   "id": "7b9d36f9",
   "metadata": {
    "execution": {
     "iopub.execute_input": "2022-04-08T07:54:31.788887Z",
     "iopub.status.busy": "2022-04-08T07:54:31.787924Z",
     "iopub.status.idle": "2022-04-08T07:54:31.806936Z",
     "shell.execute_reply": "2022-04-08T07:54:31.807538Z",
     "shell.execute_reply.started": "2022-04-08T07:53:09.476342Z"
    },
    "papermill": {
     "duration": 0.041139,
     "end_time": "2022-04-08T07:54:31.807716",
     "exception": false,
     "start_time": "2022-04-08T07:54:31.766577",
     "status": "completed"
    },
    "tags": []
   },
   "outputs": [],
   "source": [
    "class AdaBoost:\n",
    "    def __init__(self , T, hmodel = DecisionStump()):\n",
    "        self.T=T\n",
    "        self.hmodel=hmodel\n",
    "    def fit(self, X: np.ndarray, y_: np.ndarray, verbose=False):\n",
    "      n = X.shape[0]\n",
    "      T = self.T\n",
    "      y=y_\n",
    "      y[y==0]=-1\n",
    "    # init numpy arrays\n",
    "      self.D = np.zeros(shape=(T, n))\n",
    "      self.h = np.zeros(shape=T, dtype=object)\n",
    "      self.alpha = np.zeros(shape=T)\n",
    "      self.errors = np.zeros(shape=T)\n",
    "      self.ratting = np.zeros(shape=(T,2))\n",
    "\n",
    "      # initialize weights uniformly\n",
    "      self.D[0] = np.ones(shape=n) / n\n",
    "\n",
    "      for t in range(T):\n",
    "          # fit  weak learner\n",
    "          D_ = self.D[t]\n",
    "          h_ = DecisionStump(60)\n",
    "          h_ = h_.fit(X, y, D_)\n",
    "\n",
    "          # calculate error and stump weight from weak learner prediction\n",
    "          Pr_ = h_.predict(X)\n",
    "          error_ = D_[(Pr_ != y)].sum()# / n\n",
    "          alpha_ = np.log((1 - error_) / error_) / 2\n",
    "\n",
    "          # update sample weights\n",
    "          D_new = (\n",
    "              D_ * np.exp(-alpha_ * y * Pr_)\n",
    "          )\n",
    "          \n",
    "          D_new /= D_new.sum()\n",
    "\n",
    "          # If not final iteration, update sample weights for t+1\n",
    "          if t+1 < T:\n",
    "              self.D[t+1] = D_new\n",
    "\n",
    "          # save results of iteration\n",
    "          self.h[t] = h_\n",
    "          self.alpha[t] = alpha_\n",
    "          self.errors[t] = error_\n",
    "          # ae=np.array([0,0])\n",
    "          if t>0:\n",
    "            Pr_temp=self.predictmodul(X,t)\n",
    "            modelra=RatingModel(y, Pr_temp)\n",
    "            self.ratting[t,:]=modelra.accur_Error(y, Pr_temp)\n",
    "          if verbose: print('Uyên {0}-th weak classifier: accuracy={1}, error={2}'.format (t, self.ratting[t,0], self.ratting[t,1]))\n",
    "      return self\n",
    "    def predict(self, X):\n",
    "        Pr_ = np.array([h_.predict(X) for h_ in self.h])\n",
    "        return np.sign(np.dot(self.alpha, Pr_))\n",
    "    def predictmodul(self, X, i):\n",
    "        h_temp=self.h[:i]\n",
    "        alpha_temp=self.alpha[:i]\n",
    "        Pr_ = np.array([h_.predict(X) for h_ in h_temp])\n",
    "        return np.sign(np.dot(alpha_temp, Pr_))\n"
   ]
  },
  {
   "cell_type": "code",
   "execution_count": 10,
   "id": "3dbe0e6f",
   "metadata": {
    "execution": {
     "iopub.execute_input": "2022-04-08T07:54:31.848352Z",
     "iopub.status.busy": "2022-04-08T07:54:31.847431Z",
     "iopub.status.idle": "2022-04-08T07:54:36.710344Z",
     "shell.execute_reply": "2022-04-08T07:54:36.711884Z",
     "shell.execute_reply.started": "2022-04-08T07:53:09.498419Z"
    },
    "papermill": {
     "duration": 4.885817,
     "end_time": "2022-04-08T07:54:36.712231",
     "exception": false,
     "start_time": "2022-04-08T07:54:31.826414",
     "status": "completed"
    },
    "tags": []
   },
   "outputs": [
    {
     "name": "stdout",
     "output_type": "stream",
     "text": [
      "Uyên 0-th weak classifier: accuracy=0.0, error=0.0\n",
      "Uyên 1-th weak classifier: accuracy=0.784261715296198, error=0.21573828470380196\n",
      "Uyên 2-th weak classifier: accuracy=0.784261715296198, error=0.21573828470380196\n",
      "Uyên 3-th weak classifier: accuracy=0.8470380194518126, error=0.15296198054818744\n",
      "Uyên 4-th weak classifier: accuracy=0.8470380194518126, error=0.15296198054818744\n",
      "Uyên 5-th weak classifier: accuracy=0.8753315649867374, error=0.12466843501326264\n",
      "Uyên 6-th weak classifier: accuracy=0.874447391688771, error=0.12555260831122905\n",
      "Uyên 7-th weak classifier: accuracy=0.8947833775419982, error=0.10521662245800179\n",
      "Uyên 8-th weak classifier: accuracy=0.8894783377541998, error=0.11052166224580018\n",
      "Uyên 9-th weak classifier: accuracy=0.9045092838196287, error=0.0954907161803713\n",
      "Uyên 10-th weak classifier: accuracy=0.9018567639257294, error=0.09814323607427056\n",
      "Uyên 11-th weak classifier: accuracy=0.9151193633952255, error=0.08488063660477452\n",
      "Uyên 12-th weak classifier: accuracy=0.9071618037135278, error=0.09283819628647216\n",
      "Uyên 13-th weak classifier: accuracy=0.9328028293545535, error=0.0671971706454465\n",
      "Uyên 14-th weak classifier: accuracy=0.9248452696728559, error=0.07515473032714415\n",
      "Uyên 15-th weak classifier: accuracy=0.9168877099911583, error=0.08311229000884168\n",
      "Uyên 16-th weak classifier: accuracy=0.9213085764809903, error=0.0786914235190097\n",
      "Uyên 17-th weak classifier: accuracy=0.9292661361626879, error=0.07073386383731206\n",
      "Uyên 18-th weak classifier: accuracy=0.9292661361626879, error=0.07073386383731206\n",
      "Uyên 19-th weak classifier: accuracy=0.9195402298850575, error=0.08045977011494254\n",
      "Uyên 20-th weak classifier: accuracy=0.9389920424403183, error=0.06100795755968169\n",
      "Uyên 21-th weak classifier: accuracy=0.9354553492484527, error=0.06454465075154725\n",
      "Uyên 22-th weak classifier: accuracy=0.9257294429708223, error=0.07427055702917773\n",
      "Uyên 23-th weak classifier: accuracy=0.9328028293545535, error=0.0671971706454465\n",
      "Uyên 24-th weak classifier: accuracy=0.9451812555260831, error=0.05481874447391688\n",
      "Uyên 25-th weak classifier: accuracy=0.9372236958443855, error=0.06277630415561453\n",
      "Uyên 26-th weak classifier: accuracy=0.946949602122016, error=0.053050397877984046\n",
      "Uyên 27-th weak classifier: accuracy=0.9354553492484527, error=0.06454465075154725\n",
      "Uyên 28-th weak classifier: accuracy=0.9496021220159151, error=0.050397877984084904\n",
      "Uyên 29-th weak classifier: accuracy=0.946949602122016, error=0.053050397877984046\n",
      "Uyên 30-th weak classifier: accuracy=0.946949602122016, error=0.053050397877984046\n",
      "Uyên 31-th weak classifier: accuracy=0.9451812555260831, error=0.05481874447391688\n",
      "Uyên 32-th weak classifier: accuracy=0.9487179487179487, error=0.05128205128205132\n",
      "Uyên 33-th weak classifier: accuracy=0.9487179487179487, error=0.05128205128205132\n",
      "Uyên 34-th weak classifier: accuracy=0.9513704686118479, error=0.04862953138815207\n",
      "Uyên 35-th weak classifier: accuracy=0.9549071618037135, error=0.04509283819628651\n",
      "Uyên 36-th weak classifier: accuracy=0.9522546419098143, error=0.04774535809018565\n",
      "Uyên 37-th weak classifier: accuracy=0.9531388152077808, error=0.046861184792219235\n",
      "Uyên 38-th weak classifier: accuracy=0.9557913351016799, error=0.044208664898320094\n",
      "Uyên 39-th weak classifier: accuracy=0.9557913351016799, error=0.044208664898320094\n",
      "Uyên 40-th weak classifier: accuracy=0.9557913351016799, error=0.044208664898320094\n",
      "Uyên 41-th weak classifier: accuracy=0.9566755083996463, error=0.043324491600353676\n",
      "Uyên 42-th weak classifier: accuracy=0.9540229885057471, error=0.04597701149425293\n",
      "Uyên 43-th weak classifier: accuracy=0.9557913351016799, error=0.044208664898320094\n",
      "Uyên 44-th weak classifier: accuracy=0.9584438549955792, error=0.04155614500442084\n",
      "Uyên 45-th weak classifier: accuracy=0.9593280282935456, error=0.040671971706454424\n",
      "Uyên 46-th weak classifier: accuracy=0.9628647214854111, error=0.037135278514588865\n",
      "Uyên 47-th weak classifier: accuracy=0.9628647214854111, error=0.037135278514588865\n",
      "Uyên 48-th weak classifier: accuracy=0.964633068081344, error=0.03536693191865603\n",
      "Uyên 49-th weak classifier: accuracy=0.9628647214854111, error=0.037135278514588865\n"
     ]
    }
   ],
   "source": [
    "model=AdaBoost(50)\n",
    "model=model.fit(X_train_scaled, y_train,  True )\n",
    "Pr=model.predict( X_test_scaled)\n",
    "Pr[(Pr==0)]=-1\n",
    "# print(Pr, y_test)"
   ]
  },
  {
   "cell_type": "code",
   "execution_count": 11,
   "id": "f3c14ff1",
   "metadata": {
    "execution": {
     "iopub.execute_input": "2022-04-08T07:54:36.830080Z",
     "iopub.status.busy": "2022-04-08T07:54:36.828872Z",
     "iopub.status.idle": "2022-04-08T07:54:37.154075Z",
     "shell.execute_reply": "2022-04-08T07:54:37.154593Z",
     "shell.execute_reply.started": "2022-04-08T07:53:15.515510Z"
    },
    "papermill": {
     "duration": 0.391028,
     "end_time": "2022-04-08T07:54:37.154800",
     "exception": false,
     "start_time": "2022-04-08T07:54:36.763772",
     "status": "completed"
    },
    "tags": []
   },
   "outputs": [
    {
     "data": {
      "text/plain": [
       "[<matplotlib.lines.Line2D at 0x7fdc6c69be90>]"
      ]
     },
     "execution_count": 11,
     "metadata": {},
     "output_type": "execute_result"
    },
    {
     "data": {
      "image/png": "[encoded data removed]",
      "text/plain": [
       "<Figure size 432x288 with 1 Axes>"
      ]
     },
     "metadata": {
      "needs_background": "light"
     },
     "output_type": "display_data"
    }
   ],
   "source": [
    "ra_Xtest = np.zeros(shape=(model.T,2))\n",
    "for i in range(1,model.T):\n",
    "  Pr_i=model.predictmodul(X_test_scaled,i)\n",
    "  modelra=RatingModel(y_test, Pr_i)\n",
    "  ra_Xtest[i,:]=modelra.accur_Error(y_test, Pr_i)\n",
    "ra_Xtrain = np.zeros(shape=(model.T,2))\n",
    "for i in range(1,model.T):\n",
    "  Pr_i=model.predictmodul(X_train_scaled,i)\n",
    "  modelra=RatingModel(y_train, Pr_i)\n",
    "  ra_Xtrain[i,:]=modelra.accur_Error(y_train, Pr_i)\n",
    "iter=range(model.T)\n",
    "plt.plot(iter,ra_Xtest[:,0],'g-', label='Test accuracy')\n",
    "plt.plot(iter,ra_Xtest[:,1],'r-', label='Test error')\n",
    "plt.plot(iter,ra_Xtrain[:,0],'g--', label='Train accuracy')\n",
    "plt.plot(iter,ra_Xtrain[:,1],'r--', label='Train error')\n"
   ]
  },
  {
   "cell_type": "code",
   "execution_count": 12,
   "id": "5290936e",
   "metadata": {
    "execution": {
     "iopub.execute_input": "2022-04-08T07:54:37.217205Z",
     "iopub.status.busy": "2022-04-08T07:54:37.216201Z",
     "iopub.status.idle": "2022-04-08T07:54:37.580331Z",
     "shell.execute_reply": "2022-04-08T07:54:37.581050Z",
     "shell.execute_reply.started": "2022-04-08T07:53:15.926700Z"
    },
    "papermill": {
     "duration": 0.397361,
     "end_time": "2022-04-08T07:54:37.581246",
     "exception": false,
     "start_time": "2022-04-08T07:54:37.183885",
     "status": "completed"
    },
    "tags": []
   },
   "outputs": [
    {
     "data": {
      "image/png": "[encoded data removed]",
      "text/plain": [
       "<Figure size 432x288 with 1 Axes>"
      ]
     },
     "metadata": {
      "needs_background": "light"
     },
     "output_type": "display_data"
    }
   ],
   "source": [
    "sumerror=0;\n",
    "y_new=y_test\n",
    "y_new[y_new==0]=-1\n",
    "# for i in range(y_new.shape[0]):\n",
    "#   if y_new[i]!=Pr[i]: \n",
    "#     sumerror+=1\n",
    "sumerror=np.size(y_new[Pr!=y_new])\n",
    "gT1=datavl2[(Pr==1)]\n",
    "gT0=datavl2[(Pr==-1)]\n",
    "gF1=datavl2[(y_new!=Pr)&(Pr==1)]\n",
    "gF0=datavl2[(y_new!=Pr)&(Pr==-1)]\n",
    "plt.title('Test values errors :'+str(sumerror)+'/ '+str(X_test_scaled.shape[0]))\n",
    "plt.scatter(gT1[:,0],gT1[:,1], marker='o')\n",
    "plt.scatter(gT0[:,0],gT0[:,1], marker='+')\n",
    "plt.scatter(gF1[:,0],gF1[:,1], c=\"green\", marker='o')\n",
    "plt.scatter(gF0[:,0],gF0[:,1], c=\"lime\", marker='*')\n",
    "plt.legend([ 'U','Y','E','N'])\n",
    "plt.savefig('lettersCG_XtextError.png')"
   ]
  }
 ],
 "metadata": {
  "kernelspec": {
   "display_name": "Python 3",
   "language": "python",
   "name": "python3"
  },
  "language_info": {
   "codemirror_mode": {
    "name": "ipython",
    "version": 3
   },
   "file_extension": ".py",
   "mimetype": "text/x-python",
   "name": "python",
   "nbconvert_exporter": "python",
   "pygments_lexer": "ipython3",
   "version": "3.7.12"
  },
  "papermill": {
   "default_parameters": {},
   "duration": 19.899332,
   "end_time": "2022-04-08T07:54:38.625589",
   "environment_variables": {},
   "exception": null,
   "input_path": "__notebook__.ipynb",
   "output_path": "__notebook__.ipynb",
   "parameters": {},
   "start_time": "2022-04-08T07:54:18.726257",
   "version": "2.3.3"
  }
 },
 "nbformat": 4,
 "nbformat_minor": 5
}
